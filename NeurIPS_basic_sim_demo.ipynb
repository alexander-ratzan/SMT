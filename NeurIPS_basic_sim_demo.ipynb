{
 "cells": [
  {
   "cell_type": "markdown",
   "id": "98363b8f-1d61-429d-865a-3d8213cf3406",
   "metadata": {},
   "source": [
    "## Sim Demo"
   ]
  },
  {
   "cell_type": "markdown",
   "id": "83562164-b395-4948-85bd-0cc2a4d2c0e9",
   "metadata": {},
   "source": [
    "### Imports"
   ]
  },
  {
   "cell_type": "code",
   "execution_count": 1,
   "id": "b29dd74e-acf1-4701-bb72-ce3701d3d123",
   "metadata": {},
   "outputs": [
    {
     "name": "stderr",
     "output_type": "stream",
     "text": [
      "/ext3/miniconda3/lib/python3.11/site-packages/pandas/core/arrays/masked.py:60: UserWarning: Pandas requires version '1.3.6' or newer of 'bottleneck' (version '1.3.5' currently installed).\n",
      "  from pandas.core import (\n",
      "2025-05-22 23:05:15.503226: I tensorflow/core/util/port.cc:113] oneDNN custom operations are on. You may see slightly different numerical results due to floating-point round-off errors from different computation orders. To turn them off, set the environment variable `TF_ENABLE_ONEDNN_OPTS=0`.\n",
      "2025-05-22 23:05:17.701332: I tensorflow/core/platform/cpu_feature_guard.cc:210] This TensorFlow binary is optimized to use available CPU instructions in performance-critical operations.\n",
      "To enable the following instructions: AVX2 AVX512F AVX512_VNNI AVX512_BF16 FMA, in other operations, rebuild TensorFlow with the appropriate compiler flags.\n",
      "2025-05-22 23:05:19.476861: W tensorflow/compiler/tf2tensorrt/utils/py_utils.cc:38] TF-TRT Warning: Could not find TensorRT\n",
      "WARNING: /ext3/miniconda3/lib/python3.11/site-packages/enigmatoolbox-2.0.3-py3.11.egg/enigmatoolbox/utils/useful.py:10: PendingDeprecationWarning: Importing from numpy.matlib is deprecated since 1.19.0. The matrix subclass is not the recommended way to represent matrices or deal with linear algebra (see https://docs.scipy.org/doc/numpy/user/numpy-for-matlab-users.html). Please adjust your code to use regular ndarray. \n",
      "  import numpy.matlib as npm\n",
      "\n",
      "WARNING: /ext3/miniconda3/lib/python3.11/site-packages/enigmatoolbox-2.0.3-py3.11.egg/enigmatoolbox/plotting/colormaps.py:6: MatplotlibDeprecationWarning: The get_cmap function was deprecated in Matplotlib 3.7 and will be removed two minor releases later. Use ``matplotlib.colormaps[name]`` or ``matplotlib.colormaps.get_cmap(obj)`` instead.\n",
      "  autumn = cm.get_cmap('autumn', 256)\n",
      "\n",
      "WARNING: /ext3/miniconda3/lib/python3.11/site-packages/enigmatoolbox-2.0.3-py3.11.egg/enigmatoolbox/plotting/colormaps.py:8: MatplotlibDeprecationWarning: The get_cmap function was deprecated in Matplotlib 3.7 and will be removed two minor releases later. Use ``matplotlib.colormaps[name]`` or ``matplotlib.colormaps.get_cmap(obj)`` instead.\n",
      "  winter = cm.get_cmap('winter_r', 256)\n",
      "\n"
     ]
    }
   ],
   "source": [
    "from env.imports import *"
   ]
  },
  {
   "cell_type": "code",
   "execution_count": null,
   "id": "d40be0f0",
   "metadata": {},
   "outputs": [],
   "source": [
    "single_sim_run(\n",
    "              feature_type=[{'transcriptome': None}],\n",
    "              use_shared_regions=False,\n",
    "              test_shared_regions=False,\n",
    "              omit_subcortical=False,\n",
    "              parcellation='S400',\n",
    "              hemisphere='both',\n",
    "              connectome_target='FC',\n",
    "              binarize=False,\n",
    "              impute_strategy='mirror_interpolate',\n",
    "              sort_genes='refgenome',\n",
    "              gene_list='0.2',\n",
    "              cv_type='random',\n",
    "              random_seed=42,\n",
    "              search_method=('wandb', 'mse', 5),\n",
    "              track_wandb=False,\n",
    "              skip_cv=True,\n",
    "              model_type='shared_transformer_cls',\n",
    "              use_gpu=True, \n",
    "              null_model='none'\n",
    "              )\n",
    "\n",
    "# Clear GPU memory\n",
    "if torch.cuda.is_available():\n",
    "    torch.cuda.empty_cache()\n",
    "\n",
    "# Clear CPU memory\n",
    "gc.collect()"
   ]
  }
 ],
 "metadata": {
  "kernelspec": {
   "display_name": "main_env",
   "language": "python",
   "name": "main_env"
  },
  "language_info": {
   "codemirror_mode": {
    "name": "ipython",
    "version": 3
   },
   "file_extension": ".py",
   "mimetype": "text/x-python",
   "name": "python",
   "nbconvert_exporter": "python",
   "pygments_lexer": "ipython3",
   "version": "3.11.5"
  }
 },
 "nbformat": 4,
 "nbformat_minor": 5
}
